{
 "cells": [
  {
   "cell_type": "markdown",
   "metadata": {},
   "source": [
    "---\n",
    "\n",
    "_You are currently looking at **version 1.1** of this notebook. To download notebooks and datafiles, as well as get help on Jupyter notebooks in the Coursera platform, visit the [Jupyter Notebook FAQ](https://www.coursera.org/learn/python-text-mining/resources/d9pwm) course resource._\n",
    "\n",
    "---"
   ]
  },
  {
   "cell_type": "markdown",
   "metadata": {},
   "source": [
    "# Assignment 1\n",
    "\n",
    "In this assignment, you'll be working with messy medical data and using regex to extract relevant infromation from the data. \n",
    "\n",
    "Each line of the `dates.txt` file corresponds to a medical note. Each note has a date that needs to be extracted, but each date is encoded in one of many formats.\n",
    "\n",
    "The goal of this assignment is to correctly identify all of the different date variants encoded in this dataset and to properly normalize and sort the dates. \n",
    "\n",
    "Here is a list of some of the variants you might encounter in this dataset:\n",
    "* 04/20/2009; 04/20/09; 4/20/09; 4/3/09\n",
    "* Mar-20-2009; Mar 20, 2009; March 20, 2009;  Mar. 20, 2009; Mar 20 2009;\n",
    "* 20 Mar 2009; 20 March 2009; 20 Mar. 2009; 20 March, 2009\n",
    "* Mar 20th, 2009; Mar 21st, 2009; Mar 22nd, 2009\n",
    "* Feb 2009; Sep 2009; Oct 2010\n",
    "* 6/2008; 12/2009\n",
    "* 2009; 2010\n",
    "\n",
    "Once you have extracted these date patterns from the text, the next step is to sort them in ascending chronological order accoring to the following rules:\n",
    "* Assume all dates in xx/xx/xx format are mm/dd/yy\n",
    "* Assume all dates where year is encoded in only two digits are years from the 1900's (e.g. 1/5/89 is January 5th, 1989)\n",
    "* If the day is missing (e.g. 9/2009), assume it is the first day of the month (e.g. September 1, 2009).\n",
    "* If the month is missing (e.g. 2010), assume it is the first of January of that year (e.g. January 1, 2010).\n",
    "* Watch out for potential typos as this is a raw, real-life derived dataset.\n",
    "\n",
    "With these rules in mind, find the correct date in each note and return a pandas Series in chronological order of the original Series' indices.\n",
    "\n",
    "For example if the original series was this:\n",
    "\n",
    "    0    1999\n",
    "    1    2010\n",
    "    2    1978\n",
    "    3    2015\n",
    "    4    1985\n",
    "\n",
    "Your function should return this:\n",
    "\n",
    "    0    2\n",
    "    1    4\n",
    "    2    0\n",
    "    3    1\n",
    "    4    3\n",
    "\n",
    "Your score will be calculated using [Kendall's tau](https://en.wikipedia.org/wiki/Kendall_rank_correlation_coefficient), a correlation measure for ordinal data.\n",
    "\n",
    "*This function should return a Series of length 500 and dtype int.*"
   ]
  },
  {
   "cell_type": "code",
   "execution_count": 1,
   "metadata": {
    "scrolled": true
   },
   "outputs": [
    {
     "data": {
      "text/plain": [
       "0         03/25/93 Total time of visit (in minutes):\\n\n",
       "1                       6/18/85 Primary Care Doctor:\\n\n",
       "2    sshe plans to move as of 7/8/71 In-Home Servic...\n",
       "3                7 on 9/27/75 Audit C Score Current:\\n\n",
       "4    2/6/96 sleep studyPain Treatment Pain Level (N...\n",
       "5                    .Per 7/06/79 Movement D/O note:\\n\n",
       "6    4, 5/18/78 Patient's thoughts about current su...\n",
       "7    10/24/89 CPT Code: 90801 - Psychiatric Diagnos...\n",
       "8                         3/7/86 SOS-10 Total Score:\\n\n",
       "9             (4/10/71)Score-1Audit C Score Current:\\n\n",
       "dtype: object"
      ]
     },
     "execution_count": 1,
     "metadata": {},
     "output_type": "execute_result"
    }
   ],
   "source": [
    "import pandas as pd\n",
    "import re\n",
    "doc = []\n",
    "with open('dates.txt') as file:\n",
    "    for line in file:\n",
    "        doc.append(line)\n",
    "\n",
    "df = pd.Series(doc)\n",
    "df.head(10)"
   ]
  },
  {
   "cell_type": "code",
   "execution_count": 2,
   "metadata": {
    "collapsed": true
   },
   "outputs": [],
   "source": [
    "format1 = r\"(\\d{1,2})[/-](\\d{1,2})[/-](\\d{2,4})\"\n",
    "#format2 = r\"((?:Jan|Feb|Mar|Apr|May|Jun|Jul|Aug|Sep|Oct|Nov|Dec)*[a-z]?[-. ](\\d{1,2})[,]?[- ](\\d{4}))\"\n",
    "format2 = r'((?:Jan|Feb|Mar|Apr|May|Jun|Jul|Aug|Sep|Oct|Nov|Dec))[a-z]*[.]?[- ](\\d{1,2})[,]?[- ](\\d{4})'\n",
    "format3 = r\"(\\d{1,2})[ ]((?:Jan|Feb|Mar|Apr|May|Jun|Jul|Aug|Sep|Oct|Nov|Dec))[a-z]*[,.]? (\\d{2,4})\"\n",
    "#format3 = r'(\\d{1,2}) ((?:Jan|Feb|Mar|Apr|May|Jun|Jul|Aug|Sep|Oct|Nov|Dec))[a-z]*[.,]? (\\d{4})'\n",
    "format4 = r\"(?:Jan|Feb|Mar|Apr|May|Jun|Jul|Aug|Sep|Oct|Nov|Dec)[ ](\\d{1,2})[a-z]{2}[,](\\d{2,4})\"\n",
    "#format5 = r\"(?:Jan|Feb|Mar|Apr|May|Jun|Jul|Aug|Sep|Oct|Nov|Dec)[ ](\\d{4})\"\n",
    "format5 = r'((?:Jan|Feb|Mar|Apr|May|Jun|Jul|Aug|Sep|Oct|Nov|Dec))[a-z]*[,]? (\\d{4})'\n",
    "\n",
    "format6 = r\"(\\d{1,2})[/](\\d{4})\"\n",
    "format7 = r\"(\\d{4})\""
   ]
  },
  {
   "cell_type": "code",
   "execution_count": 3,
   "metadata": {
    "collapsed": true
   },
   "outputs": [],
   "source": [
    "# Receibes the abreviated version of a month and return the numerical string version\n",
    "def decodeAbbMonth(month):\n",
    "    monthsEncode =  {'Jan': '01', 'Feb': '02' ,'Mar': '03','Apr':'04','May':'05','Jun':'06',\n",
    "                      'Jul':'07','Aug':'08','Sep':'09','Oct':'10','Nov':'11','Dec':'12'}\n",
    "    if(month in monthsEncode.keys()):\n",
    "        return monthsEncode[month]\n",
    "    else:\n",
    "        return monthEnconde[\"Jan\"]"
   ]
  },
  {
   "cell_type": "code",
   "execution_count": 4,
   "metadata": {
    "collapsed": true
   },
   "outputs": [],
   "source": [
    "def decodeLargeMonth(month):\n",
    "    monthsEncode =  {'January': '01', 'February': '02' ,'March': '03','April':'04','May':'05','June':'06',\n",
    "                      'July':'07','August':'08','September':'09','October':'10','November':'11','December':'12'}\n",
    "    if(month in monthsEncode.keys()):\n",
    "        return monthsEncode[month]\n",
    "    else:\n",
    "        return monthsEncode[\"January\"]"
   ]
  },
  {
   "cell_type": "code",
   "execution_count": 5,
   "metadata": {
    "collapsed": true
   },
   "outputs": [],
   "source": [
    "def date_sorter():\n",
    "    count = 0\n",
    "    normalizedDates = list()\n",
    "\n",
    "    for medNote in df:\n",
    "        count += 1\n",
    "        if(len(re.findall(format1,medNote))>0):\n",
    "            #date = list(re.findall(format1,medNote))\n",
    "            # Normalize date \n",
    "            date = list(re.findall(format1,medNote)[0])\n",
    "            if (len(date[2]) == 2):\n",
    "                date[2] = \"19\"+date[2]\n",
    "            if len(date[0])==1:\n",
    "                date[0] = '0'+ date[0]\n",
    "            if len(date[1])==1:\n",
    "                date[1] = '0'+ date[1]\n",
    "            normalizedDates.append(date[2]+date[0]+date[1])\n",
    "        elif(len(re.findall(format2,medNote))>0):\n",
    "            date = list(re.findall(format2,medNote)[0])\n",
    "            if (len(date[1]) == 1):\n",
    "                date[1] = \"0\"+ date[1]\n",
    "            normalizedDates.append(date[2]+decodeAbbMonth(date[0])+date[1])\n",
    "        elif(len(re.findall(format3,medNote))>0):\n",
    "            date = list(re.findall(format3,medNote)[0])\n",
    "            normalizedDates.append(date[2]+decodeAbbMonth(date[1])+date[0])\n",
    "        elif(len(re.findall(format4,medNote))>0):\n",
    "            print(\"format 4:\")\n",
    "            date = list(re.findall(format4,medNote)[0])\n",
    "            normalizedDates.append(date[2]+decodeAbbMonth(date[0])+date[1][:3])\n",
    "        elif(len(re.findall(format5,medNote))>0):\n",
    "            date = list(re.findall(format5,medNote)[0])\n",
    "            normalizedDates.append(date[1]+decodeAbbMonth(date[0])+\"01\")\n",
    "        elif(len(re.findall(format6,medNote))>0):\n",
    "            date = list(re.findall(format6,medNote)[0])\n",
    "            if(len(date[0]) == 1):\n",
    "                date[0] = \"0\" + date[0]\n",
    "            normalizedDates.append(date[1]+ date[0]+\"01\")\n",
    "\n",
    "        elif(len(re.findall(format7,medNote))>0):\n",
    "            date = list(re.findall(format7,medNote))\n",
    "            normalizedDates.append(date[0]+\"01\"+\"01\")\n",
    "\n",
    "            \n",
    "    years = list()\n",
    "    months = list()\n",
    "    days = list()\n",
    "    for date in normalizedDates:\n",
    "        years.append(date[:4])\n",
    "        months.append(date[4:6])\n",
    "        days.append(date[6:])\n",
    "        \n",
    "    dates = pd.DataFrame({\"Year\":years,\"Month\":months,\"Day\":days})\n",
    "    dates.sort_values(by=['Year',\"Month\",\"Day\"],inplace = True)\n",
    "    return dates.index"
   ]
  },
  {
   "cell_type": "code",
   "execution_count": 6,
   "metadata": {},
   "outputs": [
    {
     "data": {
      "text/plain": [
       "Int64Index([  9,  84,   2,  53,  28, 474, 153,  13, 129,  98,\n",
       "            ...\n",
       "            152, 235, 464, 253, 231, 427, 141, 186, 161, 413],\n",
       "           dtype='int64', length=500)"
      ]
     },
     "execution_count": 6,
     "metadata": {},
     "output_type": "execute_result"
    }
   ],
   "source": [
    "date_sorter()"
   ]
  }
 ],
 "metadata": {
  "coursera": {
   "course_slug": "python-text-mining",
   "graded_item_id": "LvcWI",
   "launcher_item_id": "krne9",
   "part_id": "Mkp1I"
  },
  "kernelspec": {
   "display_name": "Python 3",
   "language": "python",
   "name": "python3"
  },
  "language_info": {
   "codemirror_mode": {
    "name": "ipython",
    "version": 3
   },
   "file_extension": ".py",
   "mimetype": "text/x-python",
   "name": "python",
   "nbconvert_exporter": "python",
   "pygments_lexer": "ipython3",
   "version": "3.6.2"
  }
 },
 "nbformat": 4,
 "nbformat_minor": 2
}
